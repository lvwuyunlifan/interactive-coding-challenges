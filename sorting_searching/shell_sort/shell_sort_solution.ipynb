{
 "cells": [
  {
   "cell_type": "markdown",
   "metadata": {},
   "source": [
    "# Solution Notebook"
   ]
  },
  {
   "cell_type": "markdown",
   "metadata": {},
   "source": [
    "## Problem: Implement Shell sort.\n",
    "\n",
    "* [Constraints](#Constraints)\n",
    "* [Test Cases](#Test-Cases)\n",
    "* [Algorithm](#Algorithm)\n",
    "* [Code](#Code)\n",
    "* [Pythonic-Code](#Pythonic-Code)\n",
    "* [Unit Test](#Unit-Test)"
   ]
  },
  {
   "cell_type": "markdown",
   "metadata": {},
   "source": [
    "## Constraints\n",
    "\n",
    "* Is a naive solution sufficient (ie not in-place)?\n",
    "    * Yes\n",
    "* Are duplicates allowed?\n",
    "    * Yes\n",
    "* Can we assume the input is valid?\n",
    "    * No\n",
    "* Can we assume this fits memory?\n",
    "    * Yes"
   ]
  },
  {
   "cell_type": "markdown",
   "metadata": {},
   "source": [
    "## Test Cases\n",
    "\n",
    "* None -> Exception\n",
    "* Empty input -> []\n",
    "* One element -> [element]\n",
    "* Two or more elements"
   ]
  },
  {
   "cell_type": "markdown",
   "metadata": {},
   "source": [
    "## Algorithm\n",
    "\n",
    "Wechat's animation:\n",
    "![alt text](https://mmbiz.qpic.cn/mmbiz_gif/D67peceibeIRjibmz7icUiciav9XibmONicSlEhg5HW5qwHfd2DqlDLCTBDAnTdRYibAjvic5caoRdwicGQGKlbCeibhJjosw/640?wx_fmt=gif&wxfrom=5&wx_lazy=1)\n",
    "\n",
    "Wikipedia's animation:\n",
    "![alt text](https://upload.wikimedia.org/wikipedia/commons/d/d8/Sorting_shellsort_anim.gif)\n",
    "\n",
    "\n",
    "Complexity:\n",
    "* Time: O(n log(n)) average, best, O(n^2) worst\n",
    "* Space: O(1)\n",
    "\n",
    "\n",
    "See [Shellsort on wikipedia](https://en.wikipedia.org/wiki/Shellsort):\n",
    "\n",
    "\n",
    "See: [deep understand Shellsort](https://mp.weixin.qq.com/s?__biz=MzUyNjQxNjYyMg==&mid=2247483989&idx=1&sn=0b218fa5f66ee26438dd0dd5e19a49b2&chksm=fa0e6dd4cd79e4c2e112063e2483f88cfeab7765b41216df8bd9d175ef4a38b0b3ed4b59d667&scene=21#wechat_redirect)"
   ]
  },
  {
   "cell_type": "markdown",
   "metadata": {},
   "source": [
    "## Code"
   ]
  },
  {
   "cell_type": "code",
   "execution_count": 8,
   "metadata": {},
   "outputs": [],
   "source": [
    "from __future__ import division\n",
    "\n",
    "\n",
    "class ShellSort(object):\n",
    "\n",
    "    def sort(self, data, gap_type=\"ciura\"):\n",
    "        if data is None:\n",
    "            raise TypeError('data cannot be None')\n",
    "        if len(data)<=1:\n",
    "            return data\n",
    "        \n",
    "        if gap_type == \"ciura\":\n",
    "            gaps = [701, 301, 132, 57, 23, 10, 4, 1]\n",
    "            \n",
    "        if gap_type == \"hibbard\":\n",
    "            # gaps = [(2**i-1) for i in range(1, len(data)) if (2**i -1)<len(data)]\n",
    "            gaps = []\n",
    "            i = 1\n",
    "            while (2**i -1)<len(data):\n",
    "                gaps.append(2**i-1)\n",
    "                i += 1\n",
    "            gaps.reverse()  \n",
    "\n",
    "        for gap in gaps:\n",
    "            i = gap\n",
    "            # i是从gap开始的\n",
    "            while i < len(data):\n",
    "                temp = data[i]\n",
    "                j = i\n",
    "                #找出>gap，如果j-gap>0,那j-gap和j做对比\n",
    "                while j >= gap and data[j-gap] > temp:\n",
    "                    # 对比插入，对换位置\n",
    "                    data[j] = data[j-gap]\n",
    "                    j -= gap\n",
    "\n",
    "                data[j] = temp\n",
    "                i += 1\n",
    "\n",
    "        return data"
   ]
  },
  {
   "cell_type": "markdown",
   "metadata": {},
   "source": [
    "## Unit Test\n",
    "\n"
   ]
  },
  {
   "cell_type": "code",
   "execution_count": 12,
   "metadata": {},
   "outputs": [
    {
     "name": "stdout",
     "output_type": "stream",
     "text": [
      "Overwriting test_shell_sort.py\n"
     ]
    }
   ],
   "source": [
    "%%writefile test_shell_sort.py\n",
    "from nose.tools import assert_equal, assert_raises\n",
    "\n",
    "\n",
    "class TestShellSort(object):\n",
    "\n",
    "    def test_shell_sort(self):\n",
    "        shell_sort = ShellSort()\n",
    "\n",
    "        print('None input')\n",
    "        assert_raises(TypeError, shell_sort.sort, None)\n",
    "\n",
    "        print('Empty input')\n",
    "        assert_equal(shell_sort.sort([]), [])\n",
    "\n",
    "        print('One element')\n",
    "        assert_equal(shell_sort.sort([5]), [5])\n",
    "\n",
    "        print('Two or more elements')\n",
    "        data = [5, 1, 7, 2, 6, -3, 5, 7, -1]\n",
    "        assert_equal(shell_sort.sort(data, \"hibbard\"), sorted(data))\n",
    "        print('Success hibbard: test_shell_sort\\n')\n",
    "        \n",
    "        data = [5, 1, 7, 2, 6, -3, 5, 7, -1]\n",
    "        assert_equal(shell_sort.sort(data, \"ciura\"), sorted(data))\n",
    "        print('Success ciura: test_shell_sort\\n')\n",
    "\n",
    "\n",
    "\n",
    "def main():\n",
    "    test = TestShellSort()\n",
    "    test.test_shell_sort()\n",
    "\n",
    "\n",
    "if __name__ == '__main__':\n",
    "    main()"
   ]
  },
  {
   "cell_type": "code",
   "execution_count": 15,
   "metadata": {},
   "outputs": [
    {
     "name": "stdout",
     "output_type": "stream",
     "text": [
      "None input\n",
      "Empty input\n",
      "One element\n",
      "Two or more elements\n",
      "Success hibbard: test_shell_sort\n",
      "\n",
      "Success ciura: test_shell_sort\n",
      "\n"
     ]
    }
   ],
   "source": [
    "%run -i test_shell_sort.py"
   ]
  },
  {
   "cell_type": "code",
   "execution_count": null,
   "metadata": {},
   "outputs": [],
   "source": []
  }
 ],
 "metadata": {
  "kernelspec": {
   "display_name": "Python 3",
   "language": "python",
   "name": "python3"
  },
  "language_info": {
   "codemirror_mode": {
    "name": "ipython",
    "version": 3
   },
   "file_extension": ".py",
   "mimetype": "text/x-python",
   "name": "python",
   "nbconvert_exporter": "python",
   "pygments_lexer": "ipython3",
   "version": "3.6.6"
  }
 },
 "nbformat": 4,
 "nbformat_minor": 1
}
