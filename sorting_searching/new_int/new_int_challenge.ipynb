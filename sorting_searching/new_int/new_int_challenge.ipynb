{
 "cells": [
  {
   "cell_type": "markdown",
   "metadata": {},
   "source": [
    "This notebook was prepared by [Donne Martin](https://github.com/donnemartin). Source and license info is on [GitHub](https://github.com/donnemartin/interactive-coding-challenges)."
   ]
  },
  {
   "cell_type": "markdown",
   "metadata": {},
   "source": [
    "# Challenge Notebook"
   ]
  },
  {
   "cell_type": "markdown",
   "metadata": {},
   "source": [
    "## Problem: Given an array of 32 integers, find an int not in the input.  Use a minimal amount of memory.\n",
    "\n",
    "* [Constraints](#Constraints)\n",
    "* [Test Cases](#Test-Cases)\n",
    "* [Algorithm](#Algorithm)\n",
    "* [Code](#Code)\n",
    "* [Unit Test](#Unit-Test)\n",
    "* [Solution Notebook](#Solution-Notebook)"
   ]
  },
  {
   "cell_type": "markdown",
   "metadata": {},
   "source": [
    "## Constraints\n",
    "\n",
    "* Are we working with non-negative ints?\n",
    "    * Yes\n",
    "* What is the range of the integers?\n",
    "    * Discuss the approach for 4 billion integers\n",
    "    * Implement for 32 integers\n",
    "* Can we assume the inputs are valid?\n",
    "    * No"
   ]
  },
  {
   "cell_type": "markdown",
   "metadata": {},
   "source": [
    "## Test Cases\n",
    "\n",
    "* None -> Exception\n",
    "* [] -> Exception\n",
    "* General case\n",
    "    * There is an int excluded from the input -> int\n",
    "    * There isn't an int excluded from the input -> None"
   ]
  },
  {
   "cell_type": "markdown",
   "metadata": {},
   "source": [
    "## Algorithm\n",
    "\n",
    "Refer to the [Solution Notebook](http://nbviewer.jupyter.org/github/donnemartin/interactive-coding-challenges/blob/master/sorting_searching/new_int/new_int_solution.ipynb).  If you are stuck and need a hint, the solution notebook's algorithm discussion might be a good place to start."
   ]
  },
  {
   "cell_type": "markdown",
   "metadata": {},
   "source": [
    "## Code"
   ]
  },
  {
   "cell_type": "code",
   "execution_count": 6,
   "metadata": {},
   "outputs": [
    {
     "name": "stdout",
     "output_type": "stream",
     "text": [
      "Collecting bitstring\n",
      "  Downloading https://files.pythonhosted.org/packages/f3/e5/dfe4c49c93d174a5fd807ed307d3a3f38c6b3e140972945f81a5f5578ca7/bitstring-3.1.5.zip (624kB)\n",
      "Building wheels for collected packages: bitstring\n",
      "  Running setup.py bdist_wheel for bitstring: started\n",
      "  Running setup.py bdist_wheel for bitstring: finished with status 'done'\n",
      "  Stored in directory: C:\\Users\\lvwuyun\\AppData\\Local\\pip\\Cache\\wheels\\2d\\29\\47\\179175c4ddff694032837432ae45c04c6bf93e4b01c23fb5b3\n",
      "Successfully built bitstring\n",
      "Installing collected packages: bitstring\n",
      "Successfully installed bitstring-3.1.5\n"
     ]
    },
    {
     "name": "stderr",
     "output_type": "stream",
     "text": [
      "twisted 18.7.0 requires PyHamcrest>=1.9.0, which is not installed.\n",
      "moviepy 0.2.3.2 has requirement decorator==4.0.11, but you'll have decorator 4.3.0 which is incompatible.\n",
      "You are using pip version 18.0, however version 18.1 is available.\n",
      "You should consider upgrading via the 'python -m pip install --upgrade pip' command.\n"
     ]
    }
   ],
   "source": [
    "!pip install bitstring"
   ]
  },
  {
   "cell_type": "code",
   "execution_count": 3,
   "metadata": {},
   "outputs": [],
   "source": [
    "from bitstring import BitArray  # run pip install bitstring\n",
    "\n",
    "\n",
    "class Bits(object):\n",
    "\n",
    "    def new_int(self, array, max_size):\n",
    "        # TODO: Implement me\n",
    "        # pass\n",
    "        print(array)\n",
    "        if not array:\n",
    "            raise TypeError('array cannot be None or empty')\n",
    "            \n",
    "        bit_array = BitArray(max_size)\n",
    "        print(bit_array)\n",
    "        \n",
    "        for item in array:\n",
    "            bit_array[item] = True\n",
    "        \n",
    "        for index, item in enumerate(bit_array):\n",
    "            if not item:\n",
    "                print(\"digits: %d is not in range(%d)\"%(index, max_size))\n",
    "                return index\n",
    "        return None\n"
   ]
  },
  {
   "cell_type": "code",
   "execution_count": 25,
   "metadata": {},
   "outputs": [
    {
     "data": {
      "text/plain": [
       "192"
      ]
     },
     "execution_count": 25,
     "metadata": {},
     "output_type": "execute_result"
    }
   ],
   "source": [
    "from sys import getsizeof\n",
    "class New(object):\n",
    "    def new(self, array, a):\n",
    "        l_list = [i for i in range(a)]\n",
    "        return l_list\n",
    "n = New()\n",
    "c = n.new([1,2,3,4,5,6,7], 10)\n",
    "getsizeof(c)"
   ]
  },
  {
   "cell_type": "markdown",
   "metadata": {},
   "source": [
    "## Unit Test"
   ]
  },
  {
   "cell_type": "markdown",
   "metadata": {},
   "source": [
    "**The following unit test is expected to fail until you solve the challenge.**"
   ]
  },
  {
   "cell_type": "code",
   "execution_count": 4,
   "metadata": {},
   "outputs": [
    {
     "name": "stdout",
     "output_type": "stream",
     "text": [
      "None\n",
      "[]\n",
      "[0, 1, 2, 3, 4, 5, 6, 7, 8, 9, 10, 11, 12, 13, 14, 15, 16, 17, 18, 19, 20, 21, 22, 23, 24, 25, 26, 27, 28, 29, 31]\n",
      "0x00000000\n",
      "digits: 30 is not in range(32)\n",
      "[0, 1, 2, 3, 4, 5, 6, 7, 8, 9, 10, 11, 12, 13, 14, 15, 16, 17, 18, 19, 20, 21, 22, 23, 24, 25, 26, 27, 28, 29, 30, 31]\n",
      "0x00000000\n",
      "Success: test_find_int_excluded_from_input\n"
     ]
    }
   ],
   "source": [
    "# %load test_new_int.py\n",
    "from nose.tools import assert_equal, assert_raises\n",
    "\n",
    "\n",
    "class TestBits(object):\n",
    "\n",
    "    def test_new_int(self):\n",
    "        bits = Bits()\n",
    "        max_size = 32\n",
    "        assert_raises(TypeError, bits.new_int, None, max_size)\n",
    "        assert_raises(TypeError, bits.new_int, [], max_size)\n",
    "        data = [item for item in range(30)]\n",
    "        data.append(31)\n",
    "        assert_equal(bits.new_int(data, max_size), 30)\n",
    "        data = [item for item in range(32)]\n",
    "        assert_equal(bits.new_int(data, max_size), None)\n",
    "        print('Success: test_find_int_excluded_from_input')\n",
    "\n",
    "\n",
    "def main():\n",
    "    test = TestBits()\n",
    "    test.test_new_int()\n",
    "\n",
    "\n",
    "if __name__ == '__main__':\n",
    "    main()"
   ]
  },
  {
   "cell_type": "markdown",
   "metadata": {},
   "source": [
    "## Solution Notebook\n",
    "\n",
    "Review the [Solution Notebook]() for a discussion on algorithms and code solutions."
   ]
  }
 ],
 "metadata": {
  "kernelspec": {
   "display_name": "Python 3",
   "language": "python",
   "name": "python3"
  },
  "language_info": {
   "codemirror_mode": {
    "name": "ipython",
    "version": 3
   },
   "file_extension": ".py",
   "mimetype": "text/x-python",
   "name": "python",
   "nbconvert_exporter": "python",
   "pygments_lexer": "ipython3",
   "version": "3.6.6"
  }
 },
 "nbformat": 4,
 "nbformat_minor": 1
}
