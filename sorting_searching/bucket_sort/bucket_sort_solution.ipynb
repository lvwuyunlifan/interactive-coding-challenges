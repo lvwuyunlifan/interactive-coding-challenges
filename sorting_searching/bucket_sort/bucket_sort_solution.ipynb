{
 "cells": [
  {
   "cell_type": "markdown",
   "metadata": {},
   "source": [
    "# Solution Notebook"
   ]
  },
  {
   "cell_type": "markdown",
   "metadata": {},
   "source": [
    "## Problem: Implement Bucket sort.\n",
    "\n",
    "* [Constraints](#Constraints)\n",
    "* [Test Cases](#Test-Cases)\n",
    "* [Algorithm](#Algorithm)\n",
    "* [Code](#Code)\n",
    "* [Pythonic-Code](#Pythonic-Code)\n",
    "* [Unit Test](#Unit-Test)"
   ]
  },
  {
   "cell_type": "markdown",
   "metadata": {},
   "source": [
    "## Constraints\n",
    "\n",
    "* Is a naive solution sufficient (ie not in-place)?\n",
    "    * Yes\n",
    "* Are duplicates allowed?\n",
    "    * Yes\n",
    "* Can we assume the input is valid?\n",
    "    * No\n",
    "* Can we assume this fits memory?\n",
    "    * Yes"
   ]
  },
  {
   "cell_type": "markdown",
   "metadata": {},
   "source": [
    "## Test Cases\n",
    "\n",
    "* None -> Exception\n",
    "* Empty input -> []\n",
    "* One element -> [element]\n",
    "* Two or more elements"
   ]
  },
  {
   "cell_type": "markdown",
   "metadata": {},
   "source": [
    "## Algorithm\n",
    "\n",
    "Wechat's animation:\n",
    "![alt text](https://mmbiz.qpic.cn/mmbiz_gif/D67peceibeIRxSzm8QgeCjyuoZkKQTwmH2JMcBXRPyZGWFJnslhoGNFyyhS7q0wP23CfTlGY6vwkvjG4GoklERw/640?wx_fmt=gif&wxfrom=5&wx_lazy=1)\n",
    "\n",
    "\n",
    "Complexity:\n",
    "* Time: O(n + k) average, O(n + k)best, O(n^2)worst\n",
    "* Space: O(n + k)\n",
    "\n",
    "\n",
    "See [Bucketsort on wikipedia](https://zh.wikipedia.org/wiki/%E6%A1%B6%E6%8E%92%E5%BA%8F):\n",
    "\n",
    "\n",
    "See: [deep understand Bucketsort](https://mp.weixin.qq.com/s?__biz=MzUyNjQxNjYyMg==&mid=2247484058&idx=1&sn=a7aa08a7decbba40d8af7b3c6a62cf5a&chksm=fa0e6d1bcd79e40d6ec21c64efb2115b3ffa51b3128814e0702f35682b7c85e4c5edb03e3ad1&scene=21#wechat_redirect)"
   ]
  },
  {
   "cell_type": "markdown",
   "metadata": {},
   "source": [
    "## Code"
   ]
  },
  {
   "cell_type": "code",
   "execution_count": 88,
   "metadata": {},
   "outputs": [],
   "source": [
    "from __future__ import division\n",
    "import math \n",
    "\n",
    "DEFAULT_BUCKET_SIZE = 5\n",
    "\n",
    "class BucketSort(object):\n",
    "\n",
    "    def sort(self, data, bucketSize = DEFAULT_BUCKET_SIZE):\n",
    "        \n",
    "        if data is None:\n",
    "            raise TypeError('data cannot be None')\n",
    "        if len(data)<=1:\n",
    "            return data\n",
    "        \n",
    "        len_data = len(data)\n",
    "        max_digit = max(data)\n",
    "        min_digit = min(data)\n",
    "        \n",
    "        # 分bucket_number个桶\n",
    "        bucket_number = math.floor((max_digit - min_digit)/bucketSize) + 1\n",
    "        buckets = []\n",
    "        for i in range(bucket_number):\n",
    "            buckets.append([])\n",
    "\n",
    "        \n",
    "        for d in range(len_data):\n",
    "            \n",
    "            data_value = data[d]\n",
    "            \n",
    "            # 找到所在桶的index\n",
    "            index = (data_value - min_digit)//bucketSize\n",
    "            # 找到所在的桶\n",
    "            bucket = buckets[index]\n",
    "            \n",
    "            # 桶中排序，插入\n",
    "            self._bucket_sort(bucket, data_value)\n",
    "            \n",
    "        # print(buckets)\n",
    "        # merge bucket\n",
    "        new_data = []\n",
    "        for buck in buckets:\n",
    "            new_data += buck\n",
    "                \n",
    "        return new_data\n",
    "            \n",
    "    def _bucket_sort(self, bucket, data_value):\n",
    "        \n",
    "        if len(bucket) == 0:\n",
    "            bucket.insert(0, data_value)\n",
    "            return \n",
    "\n",
    "        for i in range(len(bucket)):\n",
    "\n",
    "            if data_value<=bucket[i]:\n",
    "                bucket.insert(i, data_value)\n",
    "                break\n",
    "\n",
    "            elif data_value>bucket[len(bucket)-1]:\n",
    "                bucket.insert(len(bucket), data_value)\n",
    "                break\n",
    "\n",
    "        \n",
    "                \n",
    "   "
   ]
  },
  {
   "cell_type": "code",
   "execution_count": null,
   "metadata": {},
   "outputs": [],
   "source": []
  },
  {
   "cell_type": "markdown",
   "metadata": {},
   "source": [
    "## Unit Test\n",
    "\n"
   ]
  },
  {
   "cell_type": "code",
   "execution_count": 89,
   "metadata": {},
   "outputs": [
    {
     "name": "stdout",
     "output_type": "stream",
     "text": [
      "None input\n",
      "Empty input\n",
      "One element\n",
      "Two or more elements， have negative\n",
      "[[-3, -1, 1], [2, 5, 5, 6], [7, 7]]\n",
      "Success negative data: test_bucket_sort\n",
      "\n",
      "Two or more elements\n",
      "[[1, 2, 3, 5, 5], [6, 7, 7, 10]]\n",
      "Success: test_bucket_sort\n",
      "\n"
     ]
    }
   ],
   "source": [
    "# %%writefile test_bucket_sort.py\n",
    "from nose.tools import assert_equal, assert_raises\n",
    "\n",
    "\n",
    "class TestBucketSort(object):\n",
    "\n",
    "    def test_bucket_sort(self):\n",
    "        bucket_sort = BucketSort()\n",
    "        \n",
    "        print('None input')\n",
    "        assert_raises(TypeError, bucket_sort.sort, None)\n",
    "\n",
    "        print('Empty input')\n",
    "        assert_equal(bucket_sort.sort([]), [])\n",
    "\n",
    "        print('One element')\n",
    "        assert_equal(bucket_sort.sort([5]), [5])\n",
    "\n",
    "        print('Two or more elements， have negative')\n",
    "        data = [5, 1, 7, 2, 6, -3, 5, 7, -1]\n",
    "        assert_equal(bucket_sort.sort(data), sorted(data))\n",
    "        print('Success negative data: test_bucket_sort\\n')\n",
    "        \n",
    "        print('Two or more elements')\n",
    "        data1 = [5, 1, 7, 2, 6, 3, 5, 7, 10]\n",
    "        assert_equal(bucket_sort.sort(data1), sorted(data1))\n",
    "        print('Success: test_bucket_sort\\n')\n",
    "\n",
    "\n",
    "def main():\n",
    "    test = TestBucketSort()\n",
    "    test.test_bucket_sort()\n",
    "\n",
    "\n",
    "if __name__ == '__main__':\n",
    "    main()"
   ]
  },
  {
   "cell_type": "code",
   "execution_count": 47,
   "metadata": {},
   "outputs": [
    {
     "name": "stdout",
     "output_type": "stream",
     "text": [
      "None input\n",
      "Empty input\n",
      "One element\n",
      "Two or more elements， have negative\n",
      "Success negative data: test_count_sort\n",
      "\n",
      "Two or more elements\n",
      "Success: test_count_sort\n",
      "\n"
     ]
    }
   ],
   "source": [
    "%run -i test_bucket_sort.py"
   ]
  },
  {
   "cell_type": "code",
   "execution_count": null,
   "metadata": {},
   "outputs": [],
   "source": []
  }
 ],
 "metadata": {
  "kernelspec": {
   "display_name": "Python 3",
   "language": "python",
   "name": "python3"
  },
  "language_info": {
   "codemirror_mode": {
    "name": "ipython",
    "version": 3
   },
   "file_extension": ".py",
   "mimetype": "text/x-python",
   "name": "python",
   "nbconvert_exporter": "python",
   "pygments_lexer": "ipython3",
   "version": "3.6.6"
  }
 },
 "nbformat": 4,
 "nbformat_minor": 1
}
