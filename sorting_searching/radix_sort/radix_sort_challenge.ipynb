{
 "cells": [
  {
   "cell_type": "markdown",
   "metadata": {},
   "source": [
    "This notebook was prepared by [Donne Martin](https://github.com/donnemartin). Source and license info is on [GitHub](https://github.com/donnemartin/interactive-coding-challenges)."
   ]
  },
  {
   "cell_type": "markdown",
   "metadata": {},
   "source": [
    "# Challenge Notebook"
   ]
  },
  {
   "cell_type": "markdown",
   "metadata": {},
   "source": [
    "## Problem: Implement radix sort.\n",
    "\n",
    "* [Constraints](#Constraints)\n",
    "* [Test Cases](#Test-Cases)\n",
    "* [Algorithm](#Algorithm)\n",
    "* [Code](#Code)\n",
    "* [Unit Test](#Unit-Test)\n",
    "* [Solution Notebook](#Solution-Notebook)"
   ]
  },
  {
   "cell_type": "markdown",
   "metadata": {},
   "source": [
    "## Constraints\n",
    "\n",
    "* Is the input a list?\n",
    "    * Yes\n",
    "* Can we assume the inputs are valid?\n",
    "    * Check for None in place of an array\n",
    "    * Assume array elements are ints\n",
    "* Do we know the max digits to handle?\n",
    "    * No\n",
    "* Are the digits base 10?\n",
    "    * Yes\n",
    "* Can we assume this fits memory?\n",
    "    * Yes"
   ]
  },
  {
   "cell_type": "markdown",
   "metadata": {},
   "source": [
    "## Test Cases\n",
    "\n",
    "* None -> Exception\n",
    "* [] -> []\n",
    "* [128, 256, 164, 8, 2, 148, 212, 242, 244] -> [2, 8, 128, 148, 164, 212, 242, 244, 256]"
   ]
  },
  {
   "cell_type": "markdown",
   "metadata": {},
   "source": [
    "## Algorithm\n",
    "\n",
    "Refer to the [Solution Notebook](http://nbviewer.jupyter.org/github/donnemartin/interactive-coding-challenges/blob/master/sorting_searching/radix_sort/radix_sort_solution.ipynb).  If you are stuck and need a hint, the solution notebook's algorithm discussion might be a good place to start."
   ]
  },
  {
   "cell_type": "markdown",
   "metadata": {},
   "source": [
    "## Code"
   ]
  },
  {
   "cell_type": "code",
   "execution_count": 35,
   "metadata": {},
   "outputs": [],
   "source": [
    "class RadixSort(object):\n",
    "\n",
    "    def sort(self, array, base=10):\n",
    "        # TODO: Implement me\n",
    "        \n",
    "        if array is None:\n",
    "            raise TypeError('array cannot be None')\n",
    "        \n",
    "        elif len(array) == 0:\n",
    "            return array\n",
    "        \n",
    "        else:\n",
    "        \n",
    "            maxLength = False\n",
    "            tmp , placement = -1, 1\n",
    "\n",
    "            while not maxLength:\n",
    "                maxLength = True\n",
    "                # declare and initialize buckets\n",
    "                buckets = [list() for _ in range( base )]\n",
    "                # split lst between lists|\n",
    "                for i in array:\n",
    "                    tmp = int((i / placement) % base)\n",
    "                    print(\"tmp: \", tmp)\n",
    "                    buckets[tmp].append(i)\n",
    "\n",
    "                    if maxLength and tmp > 0:\n",
    "                        maxLength = False\n",
    "\n",
    "                # empty lists into array\n",
    "                a = 0\n",
    "                for b in range( base ):\n",
    "                    buck = buckets[b]\n",
    "                    for i in buck:\n",
    "                        array[a] = i\n",
    "                        a += 1\n",
    "                print(\"array: \", array)\n",
    "                # move to next station: 1-->10-->100\n",
    "                placement *= base\n",
    "                \n",
    "            return array\n"
   ]
  },
  {
   "cell_type": "code",
   "execution_count": 50,
   "metadata": {},
   "outputs": [],
   "source": [
    "class RadixSort(object):\n",
    "\n",
    "    def sort(self, array, base=10):\n",
    "        # TODO: Implement me\n",
    "        new_array = array\n",
    "        \n",
    "        if array is None:\n",
    "            raise TypeError('array cannot be None')\n",
    "        \n",
    "        if len(array) == 0:\n",
    "            return array\n",
    "        \n",
    "        maxNumber = max(array)\n",
    "        maxLength = len(list(str(abs(maxNumber))))\n",
    "\n",
    "        for length in range(maxLength):\n",
    "\n",
    "            # 分十个列表，装末尾的数，对应的数字分到处于该对应的列表里\n",
    "            buckets = [[] for i in range(base)]\n",
    "            for data in new_array:\n",
    "                #求尾数\n",
    "                tmp = (data//base**length)%base\n",
    "                # 末尾是tmp的数添加至buckets的第tmp\n",
    "                buckets[tmp].append(data)\n",
    "            print(\"buckets: \", buckets)\n",
    "            # 把buckets的数组合成新的array\n",
    "            new_array = []\n",
    "            for bucket in buckets:\n",
    "                new_array.extend(bucket)\n",
    "\n",
    "        return new_array\n",
    "                \n",
    "                \n",
    "                "
   ]
  },
  {
   "cell_type": "code",
   "execution_count": 51,
   "metadata": {},
   "outputs": [
    {
     "name": "stdout",
     "output_type": "stream",
     "text": [
      "12\n",
      "12.3\n",
      "2\n"
     ]
    },
    {
     "data": {
      "text/plain": [
       "3"
      ]
     },
     "execution_count": 51,
     "metadata": {},
     "output_type": "execute_result"
    }
   ],
   "source": [
    "print(123//10)\n",
    "print(123/10)\n",
    "print(2%10)\n",
    "len(list(str(int(192.2))))"
   ]
  },
  {
   "cell_type": "markdown",
   "metadata": {},
   "source": [
    "## Unit Test"
   ]
  },
  {
   "cell_type": "markdown",
   "metadata": {},
   "source": [
    "**The following unit test is expected to fail until you solve the challenge.**"
   ]
  },
  {
   "cell_type": "code",
   "execution_count": 52,
   "metadata": {},
   "outputs": [
    {
     "name": "stdout",
     "output_type": "stream",
     "text": [
      "buckets:  [[], [], [2, 212, 242], [], [164, 244], [], [256], [], [128, 8, 148], []]\n",
      "buckets:  [[2, 8], [212], [128], [], [242, 244, 148], [256], [164], [], [], []]\n",
      "buckets:  [[2, 8], [128, 148, 164], [212, 242, 244, 256], [], [], [], [], [], [], []]\n",
      "Success: test_sort\n"
     ]
    }
   ],
   "source": [
    "# %load test_radix_sort.py\n",
    "from nose.tools import assert_equal, assert_raises\n",
    "\n",
    "\n",
    "class TestRadixSort(object):\n",
    "\n",
    "    def test_sort(self):\n",
    "        radix_sort = RadixSort()\n",
    "        assert_raises(TypeError, radix_sort.sort, None)\n",
    "        assert_equal(radix_sort.sort([]), [])\n",
    "        array = [128, 256, 164, 8, 2, 148, 212, 242, 244]\n",
    "        expected = [2, 8, 128, 148, 164, 212, 242, 244, 256]\n",
    "        assert_equal(radix_sort.sort(array), expected)\n",
    "        print('Success: test_sort')\n",
    "\n",
    "\n",
    "def main():\n",
    "    test = TestRadixSort()\n",
    "    test.test_sort()\n",
    "\n",
    "\n",
    "if __name__ == '__main__':\n",
    "    main()"
   ]
  },
  {
   "cell_type": "markdown",
   "metadata": {},
   "source": [
    "## Solution Notebook\n",
    "\n",
    "Review the [Solution Notebook]() for a discussion on algorithms and code solutions."
   ]
  }
 ],
 "metadata": {
  "kernelspec": {
   "display_name": "Python 3",
   "language": "python",
   "name": "python3"
  },
  "language_info": {
   "codemirror_mode": {
    "name": "ipython",
    "version": 3
   },
   "file_extension": ".py",
   "mimetype": "text/x-python",
   "name": "python",
   "nbconvert_exporter": "python",
   "pygments_lexer": "ipython3",
   "version": "3.6.6"
  }
 },
 "nbformat": 4,
 "nbformat_minor": 1
}
