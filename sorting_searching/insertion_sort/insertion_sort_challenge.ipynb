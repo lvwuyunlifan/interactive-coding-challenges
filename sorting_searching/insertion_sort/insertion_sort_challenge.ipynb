{
 "cells": [
  {
   "cell_type": "markdown",
   "metadata": {},
   "source": [
    "This notebook was prepared by [Donne Martin](http://donnemartin.com). Source and license info is on [GitHub](https://github.com/donnemartin/interactive-coding-challenges)."
   ]
  },
  {
   "cell_type": "markdown",
   "metadata": {},
   "source": [
    "# Challenge Notebook"
   ]
  },
  {
   "cell_type": "markdown",
   "metadata": {},
   "source": [
    "## Problem: Implement insertion sort.\n",
    "\n",
    "* [Constraints](#Constraints)\n",
    "* [Test Cases](#Test-Cases)\n",
    "* [Algorithm](#Algorithm)\n",
    "* [Code](#Code)\n",
    "* [Unit Test](#Unit-Test)\n",
    "* [Solution Notebook](#Solution-Notebook)"
   ]
  },
  {
   "cell_type": "markdown",
   "metadata": {},
   "source": [
    "## Constraints\n",
    "\n",
    "* Is a naive solution sufficient?\n",
    "    * Yes\n",
    "* Are duplicates allowed?\n",
    "    * Yes\n",
    "* Can we assume the input is valid?\n",
    "    * No\n",
    "* Can we assume this fits memory?\n",
    "    * Yes"
   ]
  },
  {
   "cell_type": "markdown",
   "metadata": {},
   "source": [
    "## Test Cases\n",
    "\n",
    "* None -> Exception\n",
    "* Empty input -> []\n",
    "* One element -> [element]\n",
    "* Two or more elements"
   ]
  },
  {
   "cell_type": "markdown",
   "metadata": {},
   "source": [
    "## Algorithm\n",
    "\n",
    "Refer to the [Solution Notebook](http://nbviewer.ipython.org/github/donnemartin/interactive-coding-challenges/blob/master/sorting_searching/insertion_sort/insertion_sort_solution.ipynb).  If you are stuck and need a hint, the solution notebook's algorithm discussion might be a good place to start."
   ]
  },
  {
   "cell_type": "markdown",
   "metadata": {},
   "source": [
    "## Code"
   ]
  },
  {
   "cell_type": "code",
   "execution_count": 23,
   "metadata": {},
   "outputs": [],
   "source": [
    "class InsertionSort(object):\n",
    "\n",
    "    def sort(self, data):\n",
    "        # TODO: Implement me\n",
    "        # pass\n",
    "        length = len(data)\n",
    "        \n",
    "        if data is None:\n",
    "            return None\n",
    "        \n",
    "        elif length <= 1:\n",
    "            return data\n",
    "        \n",
    "        else:\n",
    "            for i in range(1, length):\n",
    "                for s in range(i):\n",
    "                    \n",
    "#                     # 第一个\n",
    "#                     if data[0]>data[i]:\n",
    "#                         data.insert(0, data.pop(i))\n",
    "                    \n",
    "#                     # 先删除原先的，插入到中间位置\n",
    "#                     elif data[s-1]<=data[i]<data[s]:\n",
    "#                         data.insert(s, data.pop(i))\n",
    "                    \n",
    "#                     # 末尾不变\n",
    "#                     elif data[i-1]<=data[i]:\n",
    "#                         break\n",
    "\n",
    "                    if data[i] < data[s]:\n",
    "                        data.insert(s, data.pop(i))\n",
    "                    \n",
    "                    # print(data)\n",
    "            return data\n",
    "                    \n",
    "                    \n",
    "                    "
   ]
  },
  {
   "cell_type": "code",
   "execution_count": 19,
   "metadata": {},
   "outputs": [
    {
     "name": "stdout",
     "output_type": "stream",
     "text": [
      "9\n",
      "8\n",
      "7\n",
      "6\n",
      "5\n",
      "4\n",
      "3\n",
      "2\n",
      "1\n",
      "0\n"
     ]
    }
   ],
   "source": [
    "for i in reversed(range(10)):\n",
    "    print(i)"
   ]
  },
  {
   "cell_type": "markdown",
   "metadata": {},
   "source": [
    "## Unit Test\n",
    "\n",
    "\n",
    "\n",
    "**The following unit test is expected to fail until you solve the challenge.**"
   ]
  },
  {
   "cell_type": "code",
   "execution_count": 24,
   "metadata": {},
   "outputs": [
    {
     "name": "stdout",
     "output_type": "stream",
     "text": [
      "None input\n",
      "Empty input\n",
      "One element\n",
      "Two or more elements\n",
      "Success: test_insertion_sort\n"
     ]
    }
   ],
   "source": [
    "# %load test_insertion_sort.py\n",
    "from nose.tools import assert_equal, assert_raises\n",
    "\n",
    "\n",
    "class TestInsertionSort(object):\n",
    "\n",
    "    def test_insertion_sort(self):\n",
    "        insertion_sort = InsertionSort()\n",
    "\n",
    "        print('None input')\n",
    "        assert_raises(TypeError, insertion_sort.sort, None)\n",
    "\n",
    "        print('Empty input')\n",
    "        assert_equal(insertion_sort.sort([]), [])\n",
    "\n",
    "        print('One element')\n",
    "        assert_equal(insertion_sort.sort([5]), [5])\n",
    "\n",
    "        print('Two or more elements')\n",
    "        data = [5, 1, 7, 2, 6, -3, 5, 7, -1]\n",
    "        assert_equal(insertion_sort.sort(data), sorted(data))\n",
    "\n",
    "        print('Success: test_insertion_sort')\n",
    "\n",
    "\n",
    "def main():\n",
    "    test = TestInsertionSort()\n",
    "    test.test_insertion_sort()\n",
    "\n",
    "\n",
    "if __name__ == '__main__':\n",
    "    main()"
   ]
  },
  {
   "cell_type": "markdown",
   "metadata": {},
   "source": [
    "## Solution Notebook\n",
    "\n",
    "Review the [Solution Notebook](http://nbviewer.ipython.org/github/donnemartin/interactive-coding-challenges/blob/master/sorting_searching/insertion_sort/insertion_sort_solution.ipynb) for a discussion on algorithms and code solutions."
   ]
  }
 ],
 "metadata": {
  "kernelspec": {
   "display_name": "Python 3",
   "language": "python",
   "name": "python3"
  },
  "language_info": {
   "codemirror_mode": {
    "name": "ipython",
    "version": 3
   },
   "file_extension": ".py",
   "mimetype": "text/x-python",
   "name": "python",
   "nbconvert_exporter": "python",
   "pygments_lexer": "ipython3",
   "version": "3.6.6"
  }
 },
 "nbformat": 4,
 "nbformat_minor": 1
}
