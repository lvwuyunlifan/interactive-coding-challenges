{
 "cells": [
  {
   "cell_type": "markdown",
   "metadata": {},
   "source": [
    "# Solution Notebook"
   ]
  },
  {
   "cell_type": "markdown",
   "metadata": {},
   "source": [
    "## Problem: Implement Count sort.\n",
    "\n",
    "* [Constraints](#Constraints)\n",
    "* [Test Cases](#Test-Cases)\n",
    "* [Algorithm](#Algorithm)\n",
    "* [Code](#Code)\n",
    "* [Pythonic-Code](#Pythonic-Code)\n",
    "* [Unit Test](#Unit-Test)"
   ]
  },
  {
   "cell_type": "markdown",
   "metadata": {},
   "source": [
    "## Constraints\n",
    "\n",
    "* Is a naive solution sufficient (ie not in-place)?\n",
    "    * Yes\n",
    "* Are duplicates allowed?\n",
    "    * Yes\n",
    "* Can we assume the input is valid?\n",
    "    * No\n",
    "* Can we assume this fits memory?\n",
    "    * Yes"
   ]
  },
  {
   "cell_type": "markdown",
   "metadata": {},
   "source": [
    "## Test Cases\n",
    "\n",
    "* None -> Exception\n",
    "* Empty input -> []\n",
    "* One element -> [element]\n",
    "* Two or more elements"
   ]
  },
  {
   "cell_type": "markdown",
   "metadata": {},
   "source": [
    "## Algorithm\n",
    "\n",
    "Wechat's animation:\n",
    "![alt text](https://mmbiz.qpic.cn/mmbiz_gif/D67peceibeISwc3aGibUlvZ0XqVnbWtBRia8NKBRZBBvsXXDtepTas9TFicryFdFqlVTg5mibDUgqAmYw2TvhoKu9ow/640?wx_fmt=gif&wxfrom=5&wx_lazy=1)\n",
    "\n",
    "\n",
    "Complexity:\n",
    "* Time: O(n + k) average, best, worst\n",
    "* Space: O(n + k)\n",
    "\n",
    "\n",
    "See [Countsort on wikipedia](https://zh.wikipedia.org/wiki/%E8%AE%A1%E6%95%B0%E6%8E%92%E5%BA%8F):\n",
    "\n",
    "\n",
    "See: [deep understand Countsort](https://mp.weixin.qq.com/s?__biz=MzUyNjQxNjYyMg==&mid=2247484043&idx=1&sn=3743a5e3f79fba00ca794704e0c5a1ba&chksm=fa0e6d0acd79e41c1fbbbc976b1ec390cc9345252984914abd662454675aa7dcaf49c3e125e1&scene=21#wechat_redirect)"
   ]
  },
  {
   "cell_type": "markdown",
   "metadata": {},
   "source": [
    "## Code"
   ]
  },
  {
   "cell_type": "code",
   "execution_count": 43,
   "metadata": {},
   "outputs": [],
   "source": [
    "from __future__ import division\n",
    "\n",
    "\n",
    "class CountSort(object):\n",
    "\n",
    "    def sort(self, data):\n",
    "        \n",
    "        if data is None:\n",
    "            raise TypeError('data cannot be None')\n",
    "        if len(data)<=1:\n",
    "            return data\n",
    "        \n",
    "        len_data = len(data)\n",
    "        max_digit = max(data)\n",
    "        min_digit = min(data)\n",
    "        \n",
    "        # 新建一个新的list，index的元素用来计录某元素出现的次数\n",
    "        buckets = [0] * (max_digit + 1 - min_digit)\n",
    "        \n",
    "        for d in range(len_data):\n",
    "            \n",
    "            index = data[d] - min_digit\n",
    "            buckets[index] += 1\n",
    "        \n",
    "        new_data = []\n",
    "        for j in range(len(buckets)):\n",
    "            number = buckets[j]\n",
    "            # 该元素出现的次数，放到输出list中\n",
    "            while number>0:\n",
    "                new_data.append(min_digit+j)\n",
    "                number -= 1\n",
    "\n",
    "        return new_data\n",
    "                \n",
    "   "
   ]
  },
  {
   "cell_type": "markdown",
   "metadata": {},
   "source": [
    "## Unit Test\n",
    "\n"
   ]
  },
  {
   "cell_type": "code",
   "execution_count": 46,
   "metadata": {},
   "outputs": [
    {
     "name": "stdout",
     "output_type": "stream",
     "text": [
      "Writing test_count_sort.py\n"
     ]
    }
   ],
   "source": [
    "%%writefile test_count_sort.py\n",
    "from nose.tools import assert_equal, assert_raises\n",
    "\n",
    "\n",
    "class TestCountSort(object):\n",
    "\n",
    "    def test_count_sort(self):\n",
    "        count_sort = CountSort()\n",
    "        \n",
    "        print('None input')\n",
    "        assert_raises(TypeError, count_sort.sort, None)\n",
    "\n",
    "        print('Empty input')\n",
    "        assert_equal(count_sort.sort([]), [])\n",
    "\n",
    "        print('One element')\n",
    "        assert_equal(count_sort.sort([5]), [5])\n",
    "\n",
    "        print('Two or more elements， have negative')\n",
    "        data = [5, 1, 7, 2, 6, -3, 5, 7, -1]\n",
    "        assert_equal(count_sort.sort(data), sorted(data))\n",
    "        print('Success negative data: test_count_sort\\n')\n",
    "        \n",
    "        print('Two or more elements')\n",
    "\n",
    "        data1 = [5, 1, 7, 2, 6, 3, 5, 7, 10]\n",
    "        assert_equal(count_sort.sort(data1), sorted(data1))\n",
    "        print('Success: test_count_sort\\n')\n",
    "        \n",
    "def main():\n",
    "\n",
    "    \n",
    "    test = TestCountSort()\n",
    "    test.test_count_sort()\n",
    "\n",
    "\n",
    "if __name__ == '__main__':\n",
    "    main()"
   ]
  },
  {
   "cell_type": "code",
   "execution_count": 47,
   "metadata": {},
   "outputs": [
    {
     "name": "stdout",
     "output_type": "stream",
     "text": [
      "None input\n",
      "Empty input\n",
      "One element\n",
      "Two or more elements， have negative\n",
      "Success negative data: test_count_sort\n",
      "\n",
      "Two or more elements\n",
      "Success: test_count_sort\n",
      "\n"
     ]
    }
   ],
   "source": [
    "%run -i test_count_sort.py"
   ]
  },
  {
   "cell_type": "code",
   "execution_count": null,
   "metadata": {},
   "outputs": [],
   "source": []
  }
 ],
 "metadata": {
  "kernelspec": {
   "display_name": "Python 3",
   "language": "python",
   "name": "python3"
  },
  "language_info": {
   "codemirror_mode": {
    "name": "ipython",
    "version": 3
   },
   "file_extension": ".py",
   "mimetype": "text/x-python",
   "name": "python",
   "nbconvert_exporter": "python",
   "pygments_lexer": "ipython3",
   "version": "3.6.6"
  }
 },
 "nbformat": 4,
 "nbformat_minor": 1
}
