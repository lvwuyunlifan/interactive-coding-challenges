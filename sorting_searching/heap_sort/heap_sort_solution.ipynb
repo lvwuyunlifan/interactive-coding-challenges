{
 "cells": [
  {
   "cell_type": "markdown",
   "metadata": {},
   "source": [
    "# Solution Notebook"
   ]
  },
  {
   "cell_type": "markdown",
   "metadata": {},
   "source": [
    "## Problem: Implement Heap sort.\n",
    "\n",
    "* [Constraints](#Constraints)\n",
    "* [Test Cases](#Test-Cases)\n",
    "* [Algorithm](#Algorithm)\n",
    "* [Code](#Code)\n",
    "* [Pythonic-Code](#Pythonic-Code)\n",
    "* [Unit Test](#Unit-Test)"
   ]
  },
  {
   "cell_type": "markdown",
   "metadata": {},
   "source": [
    "## Constraints\n",
    "\n",
    "* Is a naive solution sufficient (ie not in-place)?\n",
    "    * Yes\n",
    "* Are duplicates allowed?\n",
    "    * Yes\n",
    "* Can we assume the input is valid?\n",
    "    * No\n",
    "* Can we assume this fits memory?\n",
    "    * Yes"
   ]
  },
  {
   "cell_type": "markdown",
   "metadata": {},
   "source": [
    "## Test Cases\n",
    "\n",
    "* None -> Exception\n",
    "* Empty input -> []\n",
    "* One element -> [element]\n",
    "* Two or more elements"
   ]
  },
  {
   "cell_type": "markdown",
   "metadata": {},
   "source": [
    "## Algorithm\n",
    "\n",
    "Wechat's animation:\n",
    "![alt text](https://mmbiz.qpic.cn/mmbiz_gif/D67peceibeIQUzVXuw7AxIiahOVQ3ichb7wPLjktV2jye8ML7PY04pF2y7PiaNwXW7lTibJFqSXcLMEZbLyKf9DGKCA/640?wx_fmt=gif&wxfrom=5&wx_lazy=1)\n",
    "\n",
    "\n",
    "Wikipedia's animation:\n",
    "![alt text](https://upload.wikimedia.org/wikipedia/commons/1/1b/Sorting_heapsort_anim.gif)\n",
    "\n",
    "\n",
    "Complexity:\n",
    "* Time: O(n log(n)) average, best, O(n log(n)) worst\n",
    "* Space: O(1)\n",
    "\n",
    "\n",
    "See [Heapsort on wikipedia](https://zh.wikipedia.org/wiki/%E5%A0%86%E6%8E%92%E5%BA%8F):\n",
    "\n",
    "\n",
    "See: [deep understand Heapsort](https://mp.weixin.qq.com/s?__biz=MzUyNjQxNjYyMg==&mid=2247484004&idx=1&sn=ecbafdec3c38ac7a13979aace18569e4&chksm=fa0e6de5cd79e4f3b059d507ac0c6bf9ec916711891f0e92377f0d4bcf9d24319d09ed68d990&scene=21#wechat_redirect)"
   ]
  },
  {
   "cell_type": "markdown",
   "metadata": {},
   "source": [
    "## Code"
   ]
  },
  {
   "cell_type": "code",
   "execution_count": 52,
   "metadata": {},
   "outputs": [],
   "source": [
    "from __future__ import division\n",
    "\n",
    "\n",
    "class HeapSort(object):\n",
    "\n",
    "    def sort(self, data):\n",
    "        \n",
    "        return self._heap_sort(data)\n",
    "    \n",
    "    def _heap_sort(self, data):\n",
    "        \n",
    "        n = len(data)\n",
    "        \n",
    "        #build MaxHeap(建大顶堆)\n",
    "        for i in range(n//2-1, -1, -1):\n",
    "            self._heapify(data, i, n)\n",
    "\n",
    "        # resolve MaxHeap (解析大顶堆)\n",
    "        for i in range(n-1, 0, -1):\n",
    "            \n",
    "            # 每次取第一个最大值，放到后面\n",
    "            data[0], data[i] = data[i], data[0]\n",
    "            # 交换后data[0:i]继续入堆，形成新的大顶堆，保证每次取出的第一个都是最大的数\n",
    "            self._heapify(data, 0, i)\n",
    "            \n",
    "            \n",
    "            \n",
    "            \n",
    "        return data\n",
    "    \n",
    "    def _heapify(self, data, index, heap_size):\n",
    "        \n",
    "        last_index = index\n",
    "        left_index = 2*index + 1\n",
    "        right_index = 2*index + 2\n",
    "        \n",
    "        # 判断是否满足父子交换的条件，\n",
    "        if left_index < heap_size and data[left_index] > data[last_index]:\n",
    "            last_index = left_index\n",
    "        if right_index < heap_size and data[right_index] > data[last_index]:\n",
    "            last_index = right_index\n",
    "\n",
    "        # 保证父节点比子节点大\n",
    "        if last_index != index:\n",
    "            data[last_index], data[index] = data[index], data[last_index]\n",
    "            self._heapify(data, last_index, heap_size)\n"
   ]
  },
  {
   "cell_type": "markdown",
   "metadata": {},
   "source": [
    "## Unit Test\n",
    "\n"
   ]
  },
  {
   "cell_type": "code",
   "execution_count": 53,
   "metadata": {},
   "outputs": [
    {
     "name": "stdout",
     "output_type": "stream",
     "text": [
      "None input\n",
      "Empty input\n",
      "One element\n",
      "Two or more elements\n",
      "Success hibbard: test_heap_sort\n",
      "\n"
     ]
    }
   ],
   "source": [
    "# %%writefile test_heap_sort.py\n",
    "from nose.tools import assert_equal, assert_raises\n",
    "import networkx as nx\n",
    "import matplotlib.pyplot as plt\n",
    "%matplotlib inline\n",
    "\n",
    "class TestHeapSort(object):\n",
    "\n",
    "    def test_heap_sort(self):\n",
    "        heap_sort = HeapSort()\n",
    "        \n",
    "        print('None input')\n",
    "        assert_raises(TypeError, heap_sort.sort, None)\n",
    "\n",
    "        print('Empty input')\n",
    "        assert_equal(heap_sort.sort([]), [])\n",
    "\n",
    "        print('One element')\n",
    "        assert_equal(heap_sort.sort([5]), [5])\n",
    "\n",
    "        print('Two or more elements')\n",
    "        data = [5, 1, 7, 2, 6, -3, 5, 7, -1]\n",
    "        heap_sort.sort(data)\n",
    "        assert_equal(heap_sort.sort(data), sorted(data))\n",
    "        print('Success hibbard: test_heap_sort\\n')\n",
    "        \n",
    "def main():\n",
    "\n",
    "    \n",
    "    test = TestHeapSort()\n",
    "    test.test_heap_sort()\n",
    "\n",
    "\n",
    "if __name__ == '__main__':\n",
    "    main()"
   ]
  },
  {
   "cell_type": "code",
   "execution_count": 54,
   "metadata": {},
   "outputs": [
    {
     "name": "stdout",
     "output_type": "stream",
     "text": [
      "None input\n",
      "Empty input\n",
      "One element\n",
      "Two or more elements\n",
      "Success hibbard: test_heap_sort\n",
      "\n"
     ]
    }
   ],
   "source": [
    "%run -i test_heap_sort.py"
   ]
  },
  {
   "cell_type": "code",
   "execution_count": null,
   "metadata": {},
   "outputs": [],
   "source": []
  }
 ],
 "metadata": {
  "kernelspec": {
   "display_name": "Python 3",
   "language": "python",
   "name": "python3"
  },
  "language_info": {
   "codemirror_mode": {
    "name": "ipython",
    "version": 3
   },
   "file_extension": ".py",
   "mimetype": "text/x-python",
   "name": "python",
   "nbconvert_exporter": "python",
   "pygments_lexer": "ipython3",
   "version": "3.6.6"
  }
 },
 "nbformat": 4,
 "nbformat_minor": 1
}
